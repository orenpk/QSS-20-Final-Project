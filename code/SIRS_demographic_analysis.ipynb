{
 "cells": [
  {
   "cell_type": "code",
   "execution_count": 6,
   "id": "89b83a2c-bb3e-4bc5-857f-30eb1c4ccb07",
   "metadata": {},
   "outputs": [],
   "source": [
    "## Import packages\n",
    "import pandas as pd\n",
    "import seaborn as sns\n",
    "import matplotlib.pyplot as plt\n",
    "import numpy as np"
   ]
  },
  {
   "cell_type": "code",
   "execution_count": 12,
   "id": "35cf5d63-0926-4d22-af55-3ca116b856c4",
   "metadata": {},
   "outputs": [
    {
     "ename": "NameError",
     "evalue": "name 'cd' is not defined",
     "output_type": "error",
     "traceback": [
      "\u001b[0;31m---------------------------------------------------------------------------\u001b[0m",
      "\u001b[0;31mNameError\u001b[0m                                 Traceback (most recent call last)",
      "Cell \u001b[0;32mIn[12], line 4\u001b[0m\n\u001b[1;32m      1\u001b[0m \u001b[38;5;66;03m## Load data\u001b[39;00m\n\u001b[1;32m      2\u001b[0m \u001b[38;5;66;03m#sirs = pd.read_excel('.../QSS-20-Final-Project/data/Dartmouth Data Set- SIRS .xlsx', sheet_name= 'Demographics')\u001b[39;00m\n\u001b[0;32m----> 4\u001b[0m cd(\u001b[38;5;124m'\u001b[39m\u001b[38;5;124mQSS-20-Final-Project\u001b[39m\u001b[38;5;124m'\u001b[39m)\n",
      "\u001b[0;31mNameError\u001b[0m: name 'cd' is not defined"
     ]
    }
   ],
   "source": [
    "## Load data\n",
    "sirs = pd.read_excel('.../QSS-20-Final-Project/data/Dartmouth Data Set- SIRS .xlsx', sheet_name= 'Demographics')\n",
    "\n",
    "cd('QSS-20-Final-Project')"
   ]
  }
 ],
 "metadata": {
  "kernelspec": {
   "display_name": "Python 3 (ipykernel)",
   "language": "python",
   "name": "python3"
  },
  "language_info": {
   "codemirror_mode": {
    "name": "ipython",
    "version": 3
   },
   "file_extension": ".py",
   "mimetype": "text/x-python",
   "name": "python",
   "nbconvert_exporter": "python",
   "pygments_lexer": "ipython3",
   "version": "3.11.7"
  }
 },
 "nbformat": 4,
 "nbformat_minor": 5
}
