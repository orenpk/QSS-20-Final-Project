{
 "cells": [
  {
   "cell_type": "code",
   "execution_count": 1,
   "id": "3df5e0e7-78e8-4ce0-8029-f8b35d811c4d",
   "metadata": {},
   "outputs": [],
   "source": [
    "## Package imports\n",
    "import pandas as pd\n",
    "import seaborn as sns\n",
    "import matplotlib.pyplot as plt\n",
    "import numpy as np"
   ]
  },
  {
   "cell_type": "code",
   "execution_count": 5,
   "id": "45b6a7f3-0fb4-41b9-8174-a548342ed550",
   "metadata": {},
   "outputs": [
    {
     "ename": "FileNotFoundError",
     "evalue": "[Errno 2] No such file or directory: 'Dartmouth Data Set- SIRS .xlsx'",
     "output_type": "error",
     "traceback": [
      "\u001b[0;31m---------------------------------------------------------------------------\u001b[0m",
      "\u001b[0;31mFileNotFoundError\u001b[0m                         Traceback (most recent call last)",
      "Cell \u001b[0;32mIn[5], line 2\u001b[0m\n\u001b[1;32m      1\u001b[0m \u001b[38;5;66;03m## Import data\u001b[39;00m\n\u001b[0;32m----> 2\u001b[0m df_sirs \u001b[38;5;241m=\u001b[39m pd\u001b[38;5;241m.\u001b[39mread_excel(\u001b[38;5;124m'\u001b[39m\u001b[38;5;124mDartmouth Data Set- SIRS .xlsx\u001b[39m\u001b[38;5;124m'\u001b[39m)\n\u001b[1;32m      3\u001b[0m df_feis \u001b[38;5;241m=\u001b[39m pd\u001b[38;5;241m.\u001b[39mread_excel(\u001b[38;5;124m'\u001b[39m\u001b[38;5;124mDartmouth FEIS Data.xlsx\u001b[39m\u001b[38;5;124m'\u001b[39m)\n\u001b[1;32m      4\u001b[0m df_time \u001b[38;5;241m=\u001b[39m pd\u001b[38;5;241m.\u001b[39mread_excel(\u001b[38;5;124m'\u001b[39m\u001b[38;5;124mDartmouth Time Data.xlsx\u001b[39m\u001b[38;5;124m'\u001b[39m)\n",
      "File \u001b[0;32m/Library/anaconda3/lib/python3.11/site-packages/pandas/io/excel/_base.py:504\u001b[0m, in \u001b[0;36mread_excel\u001b[0;34m(io, sheet_name, header, names, index_col, usecols, dtype, engine, converters, true_values, false_values, skiprows, nrows, na_values, keep_default_na, na_filter, verbose, parse_dates, date_parser, date_format, thousands, decimal, comment, skipfooter, storage_options, dtype_backend, engine_kwargs)\u001b[0m\n\u001b[1;32m    502\u001b[0m \u001b[38;5;28;01mif\u001b[39;00m \u001b[38;5;129;01mnot\u001b[39;00m \u001b[38;5;28misinstance\u001b[39m(io, ExcelFile):\n\u001b[1;32m    503\u001b[0m     should_close \u001b[38;5;241m=\u001b[39m \u001b[38;5;28;01mTrue\u001b[39;00m\n\u001b[0;32m--> 504\u001b[0m     io \u001b[38;5;241m=\u001b[39m ExcelFile(\n\u001b[1;32m    505\u001b[0m         io,\n\u001b[1;32m    506\u001b[0m         storage_options\u001b[38;5;241m=\u001b[39mstorage_options,\n\u001b[1;32m    507\u001b[0m         engine\u001b[38;5;241m=\u001b[39mengine,\n\u001b[1;32m    508\u001b[0m         engine_kwargs\u001b[38;5;241m=\u001b[39mengine_kwargs,\n\u001b[1;32m    509\u001b[0m     )\n\u001b[1;32m    510\u001b[0m \u001b[38;5;28;01melif\u001b[39;00m engine \u001b[38;5;129;01mand\u001b[39;00m engine \u001b[38;5;241m!=\u001b[39m io\u001b[38;5;241m.\u001b[39mengine:\n\u001b[1;32m    511\u001b[0m     \u001b[38;5;28;01mraise\u001b[39;00m \u001b[38;5;167;01mValueError\u001b[39;00m(\n\u001b[1;32m    512\u001b[0m         \u001b[38;5;124m\"\u001b[39m\u001b[38;5;124mEngine should not be specified when passing \u001b[39m\u001b[38;5;124m\"\u001b[39m\n\u001b[1;32m    513\u001b[0m         \u001b[38;5;124m\"\u001b[39m\u001b[38;5;124man ExcelFile - ExcelFile already has the engine set\u001b[39m\u001b[38;5;124m\"\u001b[39m\n\u001b[1;32m    514\u001b[0m     )\n",
      "File \u001b[0;32m/Library/anaconda3/lib/python3.11/site-packages/pandas/io/excel/_base.py:1563\u001b[0m, in \u001b[0;36mExcelFile.__init__\u001b[0;34m(self, path_or_buffer, engine, storage_options, engine_kwargs)\u001b[0m\n\u001b[1;32m   1561\u001b[0m     ext \u001b[38;5;241m=\u001b[39m \u001b[38;5;124m\"\u001b[39m\u001b[38;5;124mxls\u001b[39m\u001b[38;5;124m\"\u001b[39m\n\u001b[1;32m   1562\u001b[0m \u001b[38;5;28;01melse\u001b[39;00m:\n\u001b[0;32m-> 1563\u001b[0m     ext \u001b[38;5;241m=\u001b[39m inspect_excel_format(\n\u001b[1;32m   1564\u001b[0m         content_or_path\u001b[38;5;241m=\u001b[39mpath_or_buffer, storage_options\u001b[38;5;241m=\u001b[39mstorage_options\n\u001b[1;32m   1565\u001b[0m     )\n\u001b[1;32m   1566\u001b[0m     \u001b[38;5;28;01mif\u001b[39;00m ext \u001b[38;5;129;01mis\u001b[39;00m \u001b[38;5;28;01mNone\u001b[39;00m:\n\u001b[1;32m   1567\u001b[0m         \u001b[38;5;28;01mraise\u001b[39;00m \u001b[38;5;167;01mValueError\u001b[39;00m(\n\u001b[1;32m   1568\u001b[0m             \u001b[38;5;124m\"\u001b[39m\u001b[38;5;124mExcel file format cannot be determined, you must specify \u001b[39m\u001b[38;5;124m\"\u001b[39m\n\u001b[1;32m   1569\u001b[0m             \u001b[38;5;124m\"\u001b[39m\u001b[38;5;124man engine manually.\u001b[39m\u001b[38;5;124m\"\u001b[39m\n\u001b[1;32m   1570\u001b[0m         )\n",
      "File \u001b[0;32m/Library/anaconda3/lib/python3.11/site-packages/pandas/io/excel/_base.py:1419\u001b[0m, in \u001b[0;36minspect_excel_format\u001b[0;34m(content_or_path, storage_options)\u001b[0m\n\u001b[1;32m   1416\u001b[0m \u001b[38;5;28;01mif\u001b[39;00m \u001b[38;5;28misinstance\u001b[39m(content_or_path, \u001b[38;5;28mbytes\u001b[39m):\n\u001b[1;32m   1417\u001b[0m     content_or_path \u001b[38;5;241m=\u001b[39m BytesIO(content_or_path)\n\u001b[0;32m-> 1419\u001b[0m \u001b[38;5;28;01mwith\u001b[39;00m get_handle(\n\u001b[1;32m   1420\u001b[0m     content_or_path, \u001b[38;5;124m\"\u001b[39m\u001b[38;5;124mrb\u001b[39m\u001b[38;5;124m\"\u001b[39m, storage_options\u001b[38;5;241m=\u001b[39mstorage_options, is_text\u001b[38;5;241m=\u001b[39m\u001b[38;5;28;01mFalse\u001b[39;00m\n\u001b[1;32m   1421\u001b[0m ) \u001b[38;5;28;01mas\u001b[39;00m handle:\n\u001b[1;32m   1422\u001b[0m     stream \u001b[38;5;241m=\u001b[39m handle\u001b[38;5;241m.\u001b[39mhandle\n\u001b[1;32m   1423\u001b[0m     stream\u001b[38;5;241m.\u001b[39mseek(\u001b[38;5;241m0\u001b[39m)\n",
      "File \u001b[0;32m/Library/anaconda3/lib/python3.11/site-packages/pandas/io/common.py:872\u001b[0m, in \u001b[0;36mget_handle\u001b[0;34m(path_or_buf, mode, encoding, compression, memory_map, is_text, errors, storage_options)\u001b[0m\n\u001b[1;32m    863\u001b[0m         handle \u001b[38;5;241m=\u001b[39m \u001b[38;5;28mopen\u001b[39m(\n\u001b[1;32m    864\u001b[0m             handle,\n\u001b[1;32m    865\u001b[0m             ioargs\u001b[38;5;241m.\u001b[39mmode,\n\u001b[0;32m   (...)\u001b[0m\n\u001b[1;32m    868\u001b[0m             newline\u001b[38;5;241m=\u001b[39m\u001b[38;5;124m\"\u001b[39m\u001b[38;5;124m\"\u001b[39m,\n\u001b[1;32m    869\u001b[0m         )\n\u001b[1;32m    870\u001b[0m     \u001b[38;5;28;01melse\u001b[39;00m:\n\u001b[1;32m    871\u001b[0m         \u001b[38;5;66;03m# Binary mode\u001b[39;00m\n\u001b[0;32m--> 872\u001b[0m         handle \u001b[38;5;241m=\u001b[39m \u001b[38;5;28mopen\u001b[39m(handle, ioargs\u001b[38;5;241m.\u001b[39mmode)\n\u001b[1;32m    873\u001b[0m     handles\u001b[38;5;241m.\u001b[39mappend(handle)\n\u001b[1;32m    875\u001b[0m \u001b[38;5;66;03m# Convert BytesIO or file objects passed with an encoding\u001b[39;00m\n",
      "\u001b[0;31mFileNotFoundError\u001b[0m: [Errno 2] No such file or directory: 'Dartmouth Data Set- SIRS .xlsx'"
     ]
    }
   ],
   "source": [
    "## Import data\n",
    "df_sirs = pd.read_excel('Dartmouth Data Set- SIRS .xlsx')\n",
    "df_feis = pd.read_excel('Dartmouth FEIS Data.xlsx')\n",
    "df_time = pd.read_excel('Dartmouth Time Data.xlsx')"
   ]
  },
  {
   "cell_type": "code",
   "execution_count": null,
   "id": "eba35ede-3822-4795-9335-cecb88174cc4",
   "metadata": {},
   "outputs": [],
   "source": [
    "## Look at head of each data\n",
    "print(len(df_sirs))\n",
    "print(len(df_feis))\n",
    "print(len(df_time))"
   ]
  },
  {
   "cell_type": "code",
   "execution_count": null,
   "id": "bcce7840-77ab-40ed-9399-ef41ebf00a2e",
   "metadata": {},
   "outputs": [],
   "source": [
    "df_time.columns"
   ]
  },
  {
   "cell_type": "code",
   "execution_count": null,
   "id": "a92f0a94-4899-4bcc-9968-44b7c5c5f2b3",
   "metadata": {},
   "outputs": [],
   "source": [
    "df_time['Client Local Id'].value_counts()"
   ]
  },
  {
   "cell_type": "code",
   "execution_count": 6,
   "id": "70c28c0d-a607-485a-b693-bc2cff7c68a7",
   "metadata": {},
   "outputs": [
    {
     "data": {
      "text/html": [
       "<div>\n",
       "<style scoped>\n",
       "    .dataframe tbody tr th:only-of-type {\n",
       "        vertical-align: middle;\n",
       "    }\n",
       "\n",
       "    .dataframe tbody tr th {\n",
       "        vertical-align: top;\n",
       "    }\n",
       "\n",
       "    .dataframe thead th {\n",
       "        text-align: right;\n",
       "    }\n",
       "</style>\n",
       "<table border=\"1\" class=\"dataframe\">\n",
       "  <thead>\n",
       "    <tr style=\"text-align: right;\">\n",
       "      <th></th>\n",
       "      <th>Client Local Id</th>\n",
       "      <th>Date</th>\n",
       "      <th>Minutes</th>\n",
       "      <th>Section</th>\n",
       "      <th>Type</th>\n",
       "    </tr>\n",
       "  </thead>\n",
       "  <tbody>\n",
       "    <tr>\n",
       "      <th>1075</th>\n",
       "      <td>44891</td>\n",
       "      <td>2020-12-29 00:00:00</td>\n",
       "      <td>5</td>\n",
       "      <td>Clinical Case Consultation</td>\n",
       "      <td>Clinical case review/information sharing</td>\n",
       "    </tr>\n",
       "    <tr>\n",
       "      <th>1079</th>\n",
       "      <td>44891</td>\n",
       "      <td>2020-12-29 00:00:00</td>\n",
       "      <td>5</td>\n",
       "      <td>Clinical Case Consultation</td>\n",
       "      <td>Clinical case review/information sharing</td>\n",
       "    </tr>\n",
       "    <tr>\n",
       "      <th>1085</th>\n",
       "      <td>44891</td>\n",
       "      <td>2020-12-29 00:00:00</td>\n",
       "      <td>5</td>\n",
       "      <td>Clinical Case Consultation</td>\n",
       "      <td>Clinical case review/information sharing</td>\n",
       "    </tr>\n",
       "    <tr>\n",
       "      <th>1103</th>\n",
       "      <td>44891</td>\n",
       "      <td>2020-12-29 00:00:00</td>\n",
       "      <td>5</td>\n",
       "      <td>Clinical Case Consultation</td>\n",
       "      <td>Clinical case review/information sharing</td>\n",
       "    </tr>\n",
       "    <tr>\n",
       "      <th>1108</th>\n",
       "      <td>44891</td>\n",
       "      <td>2020-12-29 00:00:00</td>\n",
       "      <td>5</td>\n",
       "      <td>Clinical Case Consultation</td>\n",
       "      <td>Clinical case review/information sharing</td>\n",
       "    </tr>\n",
       "    <tr>\n",
       "      <th>...</th>\n",
       "      <td>...</td>\n",
       "      <td>...</td>\n",
       "      <td>...</td>\n",
       "      <td>...</td>\n",
       "      <td>...</td>\n",
       "    </tr>\n",
       "    <tr>\n",
       "      <th>304096</th>\n",
       "      <td>44891</td>\n",
       "      <td>2019-01-02 00:00:00</td>\n",
       "      <td>60</td>\n",
       "      <td>Outreach, Specialized Training and System Link...</td>\n",
       "      <td>Outreach/planned contact with case manager</td>\n",
       "    </tr>\n",
       "    <tr>\n",
       "      <th>304097</th>\n",
       "      <td>44891</td>\n",
       "      <td>2019-01-02 00:00:00</td>\n",
       "      <td>50</td>\n",
       "      <td>Outreach, Specialized Training and System Link...</td>\n",
       "      <td>Outreach/Planned contact with family</td>\n",
       "    </tr>\n",
       "    <tr>\n",
       "      <th>304107</th>\n",
       "      <td>44891</td>\n",
       "      <td>2019-01-02 00:00:00</td>\n",
       "      <td>10</td>\n",
       "      <td>Clinical Case Consultation</td>\n",
       "      <td>Clinical case review/information sharing</td>\n",
       "    </tr>\n",
       "    <tr>\n",
       "      <th>304372</th>\n",
       "      <td>44891</td>\n",
       "      <td>2019-01-02 00:00:00</td>\n",
       "      <td>10</td>\n",
       "      <td>Clinical Case Consultation</td>\n",
       "      <td>Clinical case review/information sharing</td>\n",
       "    </tr>\n",
       "    <tr>\n",
       "      <th>304379</th>\n",
       "      <td>44891</td>\n",
       "      <td>2019-01-02 00:00:00</td>\n",
       "      <td>5</td>\n",
       "      <td>Medical/Psychiatric Consultation</td>\n",
       "      <td>Consulting with psychiatrist or other medical ...</td>\n",
       "    </tr>\n",
       "  </tbody>\n",
       "</table>\n",
       "<p>2305 rows × 5 columns</p>\n",
       "</div>"
      ],
      "text/plain": [
       "       Client Local Id                 Date  Minutes  \\\n",
       "1075             44891  2020-12-29 00:00:00        5   \n",
       "1079             44891  2020-12-29 00:00:00        5   \n",
       "1085             44891  2020-12-29 00:00:00        5   \n",
       "1103             44891  2020-12-29 00:00:00        5   \n",
       "1108             44891  2020-12-29 00:00:00        5   \n",
       "...                ...                  ...      ...   \n",
       "304096           44891  2019-01-02 00:00:00       60   \n",
       "304097           44891  2019-01-02 00:00:00       50   \n",
       "304107           44891  2019-01-02 00:00:00       10   \n",
       "304372           44891  2019-01-02 00:00:00       10   \n",
       "304379           44891  2019-01-02 00:00:00        5   \n",
       "\n",
       "                                                  Section  \\\n",
       "1075                           Clinical Case Consultation   \n",
       "1079                           Clinical Case Consultation   \n",
       "1085                           Clinical Case Consultation   \n",
       "1103                           Clinical Case Consultation   \n",
       "1108                           Clinical Case Consultation   \n",
       "...                                                   ...   \n",
       "304096  Outreach, Specialized Training and System Link...   \n",
       "304097  Outreach, Specialized Training and System Link...   \n",
       "304107                         Clinical Case Consultation   \n",
       "304372                         Clinical Case Consultation   \n",
       "304379                   Medical/Psychiatric Consultation   \n",
       "\n",
       "                                                     Type  \n",
       "1075             Clinical case review/information sharing  \n",
       "1079             Clinical case review/information sharing  \n",
       "1085             Clinical case review/information sharing  \n",
       "1103             Clinical case review/information sharing  \n",
       "1108             Clinical case review/information sharing  \n",
       "...                                                   ...  \n",
       "304096         Outreach/planned contact with case manager  \n",
       "304097               Outreach/Planned contact with family  \n",
       "304107           Clinical case review/information sharing  \n",
       "304372           Clinical case review/information sharing  \n",
       "304379  Consulting with psychiatrist or other medical ...  \n",
       "\n",
       "[2305 rows x 5 columns]"
      ]
     },
     "execution_count": 6,
     "metadata": {},
     "output_type": "execute_result"
    }
   ],
   "source": [
    "df_time[df_time['Client Local Id'] == 44891]"
   ]
  },
  {
   "cell_type": "code",
   "execution_count": 7,
   "id": "aadb50a8-af9b-4141-b192-282075bfe84c",
   "metadata": {},
   "outputs": [],
   "source": [
    "## Create MEGA df\n",
    "# sirs_feis = df_sirs.merge(df_feis, left_on = \"Local ID\", right_on = \"Respondent ID # (SIRS Local ID)\", how = "
   ]
  },
  {
   "cell_type": "code",
   "execution_count": 3,
   "id": "758a76bf-c5db-4a6c-b1cc-3b46d5001f2b",
   "metadata": {},
   "outputs": [
    {
     "ename": "NameError",
     "evalue": "name 'df_sirs' is not defined",
     "output_type": "error",
     "traceback": [
      "\u001b[0;31m---------------------------------------------------------------------------\u001b[0m",
      "\u001b[0;31mNameError\u001b[0m                                 Traceback (most recent call last)",
      "Cell \u001b[0;32mIn[3], line 2\u001b[0m\n\u001b[1;32m      1\u001b[0m \u001b[38;5;66;03m## Cleaning Race Data\u001b[39;00m\n\u001b[0;32m----> 2\u001b[0m demo \u001b[38;5;241m=\u001b[39m df_sirs[[\u001b[38;5;124m'\u001b[39m\u001b[38;5;124mDOB\u001b[39m\u001b[38;5;124m'\u001b[39m, \u001b[38;5;124m'\u001b[39m\u001b[38;5;124mGender\u001b[39m\u001b[38;5;124m'\u001b[39m, \u001b[38;5;124m'\u001b[39m\u001b[38;5;124mRace\u001b[39m\u001b[38;5;124m'\u001b[39m, \u001b[38;5;124m'\u001b[39m\u001b[38;5;124mEthnicity\u001b[39m\u001b[38;5;124m'\u001b[39m, \u001b[38;5;124m'\u001b[39m\u001b[38;5;124mLevel of Intellectual Disability\u001b[39m\u001b[38;5;124m'\u001b[39m,\n\u001b[1;32m      3\u001b[0m        \u001b[38;5;124m'\u001b[39m\u001b[38;5;124mCurrent living situation at enrollment to START\u001b[39m\u001b[38;5;124m'\u001b[39m]]\n\u001b[1;32m      6\u001b[0m \u001b[38;5;66;03m##\u001b[39;00m\n\u001b[1;32m      7\u001b[0m \u001b[38;5;28;01mdef\u001b[39;00m \u001b[38;5;21mcategorize_race\u001b[39m(race):\n",
      "\u001b[0;31mNameError\u001b[0m: name 'df_sirs' is not defined"
     ]
    }
   ],
   "source": [
    "## Cleaning Race Data\n",
    "demo = df_sirs[['DOB', 'Gender', 'Race', 'Ethnicity', 'Level of Intellectual Disability',\n",
    "       'Current living situation at enrollment to START']]\n",
    "\n",
    "\n",
    "##\n",
    "def categorize_race(race):\n",
    "    categories = {\n",
    "        'Asian': ['Asian', 'Asian, Other: Chinese', 'Asian, Other: Filipino', 'Asian, Other: Indian', 'Asian, Other: Vietnamese', 'Asian, Black or African American', 'Asian, Native Hawaiian or Other Pacific Islander, Other: Hispanic', 'Asian, Other: Hispanic'],\n",
    "        'White': ['White', 'Unknown, not collected, White', 'Other: White', 'Other: White and Black or African America', 'Other: White and Asian', 'Other: MIXED RACE, White', 'Other: Panamanian and white, White', 'Other: Caucasian', 'Other: White/Indian', 'Other: White, Hispanic'],\n",
    "        'Other: Hispanic': ['Other: Hispanic', 'Other: HISPANIC', 'Other: Hispanic ', 'Other: hispanic', 'Other: Hispanic, White', 'Other: hispanic, White', 'Other: Hispanic/Latino', 'Other: Hispanic - Puerto Rican descent', 'Other: Latino', 'Other: Latino, White', 'Other: Hispanic/ Latina', 'Other: Latino (Guatemalen & El Salvador)', 'Other: Latino ( Mexican & Puerto Rican )', 'Other: Hispanic: Puerto Rican', 'Other: Mexican/Puerto Rican', 'Other: Hispanic decent', 'Other: Hispanic, AA and white', 'Other: Hispanic (Uruguayan/Dominican)', 'Other: Hispanic, Unknown, not collected', 'Other: hispanic', 'Other: Hispanic - Puerto Rican descent', 'Other: Latino ( Mexican & Puerto Rican )'],\n",
    "        'American Indian or Alaska Native': ['American Indian or Alaska Native', 'American Indian or Alaska Native, Black or African American', 'American Indian or Alaska Native, Black or African American, White']\n",
    "    }\n",
    "    \n",
    "demo['race_clean'] = demo['Race'].apply(categorize_race)\n",
    "demo['race_clean'].unique()\n",
    "\n",
    "# value_counts normalization"
   ]
  },
  {
   "cell_type": "code",
   "execution_count": 4,
   "id": "81f941d7-5461-4041-b047-b70620c056e3",
   "metadata": {},
   "outputs": [
    {
     "ename": "NameError",
     "evalue": "name 'demo' is not defined",
     "output_type": "error",
     "traceback": [
      "\u001b[0;31m---------------------------------------------------------------------------\u001b[0m",
      "\u001b[0;31mNameError\u001b[0m                                 Traceback (most recent call last)",
      "Cell \u001b[0;32mIn[4], line 2\u001b[0m\n\u001b[1;32m      1\u001b[0m \u001b[38;5;66;03m## Cleaning Gender Data\u001b[39;00m\n\u001b[0;32m----> 2\u001b[0m demo[\u001b[38;5;124m'\u001b[39m\u001b[38;5;124mGender\u001b[39m\u001b[38;5;124m'\u001b[39m]\u001b[38;5;241m.\u001b[39munique()\n\u001b[1;32m      3\u001b[0m gender_categories \u001b[38;5;241m=\u001b[39m {\n\u001b[1;32m      4\u001b[0m     \u001b[38;5;124m'\u001b[39m\u001b[38;5;124mMale\u001b[39m\u001b[38;5;124m'\u001b[39m: [\u001b[38;5;124m'\u001b[39m\u001b[38;5;124mMale\u001b[39m\u001b[38;5;124m'\u001b[39m, \u001b[38;5;124m'\u001b[39m\u001b[38;5;124mOther: Desires to transition from male to female\u001b[39m\u001b[38;5;124m'\u001b[39m, \u001b[38;5;124m'\u001b[39m\u001b[38;5;124mOther: FTM\u001b[39m\u001b[38;5;124m'\u001b[39m, \u001b[38;5;124m'\u001b[39m\u001b[38;5;124mOther: transgender male\u001b[39m\u001b[38;5;124m'\u001b[39m],\n\u001b[1;32m      5\u001b[0m     \u001b[38;5;124m'\u001b[39m\u001b[38;5;124mFemale\u001b[39m\u001b[38;5;124m'\u001b[39m: [\u001b[38;5;124m'\u001b[39m\u001b[38;5;124mFemale\u001b[39m\u001b[38;5;124m'\u001b[39m, \u001b[38;5;124m'\u001b[39m\u001b[38;5;124mOther: transgender female\u001b[39m\u001b[38;5;124m'\u001b[39m, \u001b[38;5;124m'\u001b[39m\u001b[38;5;124mOther: Male to Female\u001b[39m\u001b[38;5;124m'\u001b[39m, \u001b[38;5;124m'\u001b[39m\u001b[38;5;124mOther: Born male/ he/ him, Currently identifies as female/ she/ her\u001b[39m\u001b[38;5;124m'\u001b[39m, \u001b[38;5;124m'\u001b[39m\u001b[38;5;124mOther: Identifies as female \u001b[39m\u001b[38;5;124m'\u001b[39m, \u001b[38;5;124m'\u001b[39m\u001b[38;5;124mOther: Transgender female\u001b[39m\u001b[38;5;124m'\u001b[39m]\n\u001b[1;32m      6\u001b[0m }\n\u001b[1;32m      8\u001b[0m \u001b[38;5;28;01mdef\u001b[39;00m \u001b[38;5;21mcategorize_gender\u001b[39m(gender):\n",
      "\u001b[0;31mNameError\u001b[0m: name 'demo' is not defined"
     ]
    }
   ],
   "source": [
    "## Cleaning Gender Data\n",
    "demo['Gender'].unique()\n",
    "gender_categories = {\n",
    "    'Male': ['Male', 'Other: Desires to transition from male to female', 'Other: FTM', 'Other: transgender male'],\n",
    "    'Female': ['Female', 'Other: transgender female', 'Other: Male to Female', 'Other: Born male/ he/ him, Currently identifies as female/ she/ her', 'Other: Identifies as female ', 'Other: Transgender female']\n",
    "}\n",
    "\n",
    "def categorize_gender(gender):\n",
    "    for category, gender_list in gender_categories.items():\n",
    "        if gender in gender_list:\n",
    "            return category\n",
    "    return 'Other'\n",
    "\n",
    "demo.loc[:, 'gender_clean'] = demo['Gender'].apply(categorize_gender)"
   ]
  },
  {
   "cell_type": "code",
   "execution_count": 10,
   "id": "d8cbf93b-0b15-4953-80dd-b0857897eab6",
   "metadata": {},
   "outputs": [
    {
     "data": {
      "text/plain": [
       "<BarContainer object of 3 artists>"
      ]
     },
     "execution_count": 10,
     "metadata": {},
     "output_type": "execute_result"
    },
    {
     "data": {
      "image/png": "[encoded data removed]",
      "text/plain": [
       "<Figure size 640x480 with 1 Axes>"
      ]
     },
     "metadata": {},
     "output_type": "display_data"
    }
   ],
   "source": [
    "## Finding Gender Composition\n",
    "total_entries = len(demo)\n",
    "male = demo['gender_clean'].value_counts().loc['Male']/total_entries\n",
    "female = demo['gender_clean'].value_counts().loc['Female']/total_entries\n",
    "other = demo['gender_clean'].value_counts().loc['Other']/total_entries\n",
    "\n",
    "gender_pct = pd.DataFrame({\n",
    "    'gender': ['male_pct', 'female_pct', 'other_pct'], \n",
    "    'percentage': [male, female, other]\n",
    "})\n",
    "\n",
    "plt.bar(gender_pct['gender'], gender_pct['percentage'])"
   ]
  },
  {
   "cell_type": "code",
   "execution_count": 11,
   "id": "a38387bc-b0ae-4f5b-959b-ceedc17059e0",
   "metadata": {},
   "outputs": [
    {
     "data": {
      "text/plain": [
       "array(['Group home', 'Family home', 'Foster care home',\n",
       "       'Independent living ', 'Psychiatric hospital', 'Supported living',\n",
       "       'Alternative Family Living (AFL)', 'Community ICF/DD',\n",
       "       'Supervised apartment',\n",
       "       'Other: Psychiatric Residential Treatment Facility',\n",
       "       'State operated I/DD center', 'Other: Crisis ',\n",
       "       'Assisted Living Facility', 'Other: Respite Home', 'Other: ',\n",
       "       'Other: Crisis respite house', 'Other: crisis respite ',\n",
       "       'Homeless, sheltered', 'Other: Respite Facility ',\n",
       "       'Other: Currently living at the RC',\n",
       "       'Other: Currently with Godparents', 'Other: PRTF',\n",
       "       'Other: Temorary residential setting while awaiting permanent housing',\n",
       "       'Other: Adult Care Home', 'Homeless, unsheltered',\n",
       "       'Other: Residential school', 'Other: Residenital School',\n",
       "       'Other: Residential school placement ',\n",
       "       \"Other: staying at his mother's house till new group home provider picks him up\",\n",
       "       'Other: Secured psychiatric unit', 'Other: Crisis Respite House',\n",
       "       'Other: Lakeview', 'Other: Enhanced Family Care', 'Jail',\n",
       "       'Other:  EFC 2:1 HCPs',\n",
       "       'Other: Crisis Stabilization Center, Fort Dodge ',\n",
       "       'Other: Unknown', 'Other: Living with mother in townhouse',\n",
       "       'Other: RCF ', 'Other: Semi independent apartment ', 'Other: EFC',\n",
       "       'Other: Care Home',\n",
       "       'Other: Enhanced Family Care with adopted family',\n",
       "       'Other: Anderson School', 'Other: Anderson School ',\n",
       "       'Other: Nursing Home ', 'Other: Home Care Provider Setting',\n",
       "       'Other: juvenile dentention center',\n",
       "       'Other: Hospital - ECMC Social Admission ',\n",
       "       'Other: Mental Health residence', 'Other: Respite House',\n",
       "       'Other: unknown',\n",
       "       'Other: Enhanced Family setting - Home care provider',\n",
       "       'Other: Nursing home ', 'Other: Emergency Department',\n",
       "       'Other: Boarding Home', 'Other: Host Home',\n",
       "       'Other: Residential School', 'Other: Host Home ',\n",
       "       'Other: Semi independent apartment', 'Other: Hospital',\n",
       "       'Other: Local Hospital', 'Other: OMH RTF',\n",
       "       'Other: lives with aunt and her daughter',\n",
       "       'Other: Certified Setting ',\n",
       "       'Other: Lives with maternal grandparents',\n",
       "       'Other: DSS respite placement', 'Other: Shelter',\n",
       "       'Other: Residential Center, Last 5 years',\n",
       "       'Other: Out of home placement under 21 years olf Spalding Youth Center',\n",
       "       \"Other: Aidan lives in his own apartment on his parent's property\",\n",
       "       'Other: Living with Caregiver ', 'Other: Hotel', 'Other: PRFT',\n",
       "       'Other: Hospital: Nassau University Medical Center ',\n",
       "       \"Other: Residing with her boyfriend's sister. This changes often.\",\n",
       "       'Other: Transitioning from hospital without established placement',\n",
       "       'Other: RCF', 'Other: Medical Hospital', 'Other: DSS office',\n",
       "       'Other: Adoptive Home', 'Other: Residential Care Facility ',\n",
       "       'Other: residential school ',\n",
       "       'Other: Enhanced Family Care with HCP',\n",
       "       'Other: Hotel on temp basis due to fire at last residence',\n",
       "       'Other: Bouncing between family homes ',\n",
       "       'Other: Group home, but visiting family for period due to COVID',\n",
       "       'Other: Enhanced Family Care Respite', 'Other: Residential ',\n",
       "       'Other: Currently at New Hope PRTF 30 day assessment center',\n",
       "       'Other: Per Father, they are living from hotel to hotel.',\n",
       "       'Other: Residence IRA', 'Other: under IVC at Community Hospital',\n",
       "       'Other: Acute crisis group home', 'Other: CPEP',\n",
       "       'Other: hospital due to physical needs support',\n",
       "       'Other: transitional home (from jail)', 'Other: IRA',\n",
       "       'Other: Lives alone', 'Other: Enhanced family care ',\n",
       "       'Other: Emergency Respite',\n",
       "       'Other: CPS Custody & Judge Order to Remain in Hospital',\n",
       "       'Other: Crisis Respite ', 'Other: Host Home Provider',\n",
       "       'Other: Residential Care Facility-PMI', 'Other: Polinsky',\n",
       "       'Other: Resides with grandparents',\n",
       "       'Other: Enhanced Behavioral Support Home',\n",
       "       'Other: Living with family friend '], dtype=object)"
      ]
     },
     "execution_count": 11,
     "metadata": {},
     "output_type": "execute_result"
    }
   ],
   "source": [
    "## Cleaning Living Situation Data\n",
    "demo['Current living situation at enrollment to START'].unique()"
   ]
  },
  {
   "cell_type": "code",
   "execution_count": 12,
   "id": "e20c4ba4-25a5-4533-bb21-6c5228153725",
   "metadata": {},
   "outputs": [
    {
     "name": "stderr",
     "output_type": "stream",
     "text": [
      "/var/folders/ss/3094bd1s7k55hnfygclmswz00000gn/T/ipykernel_37073/1888899385.py:8: SettingWithCopyWarning: \n",
      "A value is trying to be set on a copy of a slice from a DataFrame.\n",
      "Try using .loc[row_indexer,col_indexer] = value instead\n",
      "\n",
      "See the caveats in the documentation: https://pandas.pydata.org/pandas-docs/stable/user_guide/indexing.html#returning-a-view-versus-a-copy\n",
      "  demo['is_minor'] = demo['DOB'].apply(categorize_child_adult)\n"
     ]
    },
    {
     "data": {
      "text/html": [
       "<div>\n",
       "<style scoped>\n",
       "    .dataframe tbody tr th:only-of-type {\n",
       "        vertical-align: middle;\n",
       "    }\n",
       "\n",
       "    .dataframe tbody tr th {\n",
       "        vertical-align: top;\n",
       "    }\n",
       "\n",
       "    .dataframe thead th {\n",
       "        text-align: right;\n",
       "    }\n",
       "</style>\n",
       "<table border=\"1\" class=\"dataframe\">\n",
       "  <thead>\n",
       "    <tr style=\"text-align: right;\">\n",
       "      <th></th>\n",
       "      <th>is_minor</th>\n",
       "      <th>DOB</th>\n",
       "    </tr>\n",
       "  </thead>\n",
       "  <tbody>\n",
       "    <tr>\n",
       "      <th>0</th>\n",
       "      <td>False</td>\n",
       "      <td>1982-12-01</td>\n",
       "    </tr>\n",
       "    <tr>\n",
       "      <th>1</th>\n",
       "      <td>False</td>\n",
       "      <td>1989-12-01</td>\n",
       "    </tr>\n",
       "    <tr>\n",
       "      <th>2</th>\n",
       "      <td>False</td>\n",
       "      <td>1972-12-01</td>\n",
       "    </tr>\n",
       "    <tr>\n",
       "      <th>3</th>\n",
       "      <td>False</td>\n",
       "      <td>1974-05-01</td>\n",
       "    </tr>\n",
       "    <tr>\n",
       "      <th>4</th>\n",
       "      <td>False</td>\n",
       "      <td>1989-06-01</td>\n",
       "    </tr>\n",
       "  </tbody>\n",
       "</table>\n",
       "</div>"
      ],
      "text/plain": [
       "   is_minor        DOB\n",
       "0     False 1982-12-01\n",
       "1     False 1989-12-01\n",
       "2     False 1972-12-01\n",
       "3     False 1974-05-01\n",
       "4     False 1989-06-01"
      ]
     },
     "execution_count": 12,
     "metadata": {},
     "output_type": "execute_result"
    }
   ],
   "source": [
    "df_sirs.columns\n",
    "\n",
    "def categorize_child_adult(DOB):\n",
    "    if DOB > pd.Timestamp('2006-01-01 00:00:00'):\n",
    "        return True\n",
    "    return False\n",
    "\n",
    "demo['is_minor'] = demo['DOB'].apply(categorize_child_adult)\n",
    "demo[['is_minor', 'DOB']].head()"
   ]
  },
  {
   "cell_type": "code",
   "execution_count": 13,
   "id": "77119c10-215f-4f83-adba-e801244cb70f",
   "metadata": {},
   "outputs": [
    {
     "data": {
      "text/plain": [
       "Current living situation at enrollment to START\n",
       "Family home                                        2248\n",
       "Group home                                          954\n",
       "Alternative Family Living (AFL)                     214\n",
       "Supported living                                    139\n",
       "Independent living                                  121\n",
       "                                                   ... \n",
       "Other: Nursing Home                                   1\n",
       "Other: Anderson School                                1\n",
       "Other: Anderson School                                1\n",
       "Other: Enhanced Family Care with adopted family       1\n",
       "Other: Living with family friend                      1\n",
       "Name: count, Length: 98, dtype: int64"
      ]
     },
     "execution_count": 13,
     "metadata": {},
     "output_type": "execute_result"
    }
   ],
   "source": [
    "# Subset for minors\n",
    "minor = demo[demo['is_minor'] == True]\n",
    "minor\n",
    "\n",
    "minor['Current living situation at enrollment to START'].value_counts()\n",
    "demo[demo['is_minor'] == False]['Current living situation at enrollment to START'].value_counts()"
   ]
  },
  {
   "cell_type": "code",
   "execution_count": 14,
   "id": "4f4dd7b4-dfeb-449f-9cf5-3f03985f3f06",
   "metadata": {},
   "outputs": [
    {
     "data": {
      "text/plain": [
       "Index(['Client Local Id', 'Date', 'Minutes', 'Section', 'Type'], dtype='object')"
      ]
     },
     "execution_count": 14,
     "metadata": {},
     "output_type": "execute_result"
    }
   ],
   "source": [
    "df_sirs.columns\n",
    "df_feis.columns\n",
    "df_time.columns"
   ]
  },
  {
   "cell_type": "code",
   "execution_count": 19,
   "id": "c7d515fe-ab8a-4e0f-b599-9df954b7eb4a",
   "metadata": {},
   "outputs": [
    {
     "name": "stdout",
     "output_type": "stream",
     "text": [
      "4986\n",
      "4986\n"
     ]
    }
   ],
   "source": [
    "print(df_sirs['Local ID'].nunique())\n",
    "print(len(df_sirs['Local ID']))"
   ]
  }
 ],
 "metadata": {
  "kernelspec": {
   "display_name": "Python 3 (ipykernel)",
   "language": "python",
   "name": "python3"
  },
  "language_info": {
   "codemirror_mode": {
    "name": "ipython",
    "version": 3
   },
   "file_extension": ".py",
   "mimetype": "text/x-python",
   "name": "python",
   "nbconvert_exporter": "python",
   "pygments_lexer": "ipython3",
   "version": "3.11.7"
  }
 },
 "nbformat": 4,
 "nbformat_minor": 5
}
