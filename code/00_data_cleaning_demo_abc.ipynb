{
 "cells": [
  {
   "cell_type": "code",
   "execution_count": 1,
   "id": "b7f7f5e4-1e8a-4725-a27a-eeb113af5c57",
   "metadata": {},
   "outputs": [],
   "source": [
    "## Import packages\n",
    "import pandas as pd"
   ]
  },
  {
   "cell_type": "code",
   "execution_count": 2,
   "id": "1e2390c0-dcf6-485a-8912-6004306822b5",
   "metadata": {},
   "outputs": [],
   "source": [
    "## Load data\n",
    "sirs_demo = pd.read_excel('../data/Dartmouth Data Set- SIRS .xlsx', sheet_name = 'Demographics')\n",
    "sirs_abc = pd.read_excel('../data/Dartmouth Data Set- SIRS .xlsx', sheet_name = 'ABC Data')"
   ]
  },
  {
   "cell_type": "code",
   "execution_count": 3,
   "id": "a4159618-2266-4c4a-a7af-dfde7ab9175e",
   "metadata": {},
   "outputs": [
    {
     "name": "stdout",
     "output_type": "stream",
     "text": [
      "Race\n",
      "White                                        2980\n",
      "Black or African American                     994\n",
      "Unknown, not collected                        277\n",
      "Other: Hispanic                               191\n",
      "Asian                                         147\n",
      "                                             ... \n",
      "Other: Ecuadorian                               1\n",
      "Other: Pakistani                                1\n",
      "Other: Pakistani-Muslim                         1\n",
      "Other: White and Black or African America       1\n",
      "Other: mexican                                  1\n",
      "Name: count, Length: 162, dtype: int64\n",
      "Race\n",
      "White                                                0.597673\n",
      "Black or African American                            0.797032\n",
      "Unknown, not collected                               0.852587\n",
      "Other: Hispanic                                      0.890895\n",
      "Asian                                                0.920377\n",
      "Other                                                0.927597\n",
      "Black or African American, White                     0.933815\n",
      "Other: Latino                                        0.939430\n",
      "American Indian or Alaska Native                     0.944846\n",
      "Other: hispanic                                      0.948857\n",
      "Asian, White                                         0.952066\n",
      "Other: Mexican                                       0.954272\n",
      "Native Hawaiian or Other Pacific Islander            0.955876\n",
      "Unknown, not collected, White                        0.957481\n",
      "Other: Biracial                                      0.958885\n",
      "Other: Hispanic, White                               0.960088\n",
      "Other: Indian                                        0.961091\n",
      "Native Hawaiian or Other Pacific Islander, White     0.962094\n",
      "Other: Middle Eastern                                0.962896\n",
      "Black or African American, Unknown, not collected    0.963698\n",
      "American Indian or Alaska Native, White              0.964501\n",
      "Other: Latina                                        0.965303\n",
      "Other: Guyanese                                      0.966105\n",
      "Other: East Indian                                   0.966907\n",
      "Other: Bi-racial                                     0.967710\n",
      "Other: Mixed race                                    0.968311\n",
      "Other: Puerto Rican                                  0.968913\n",
      "Other: Filipino                                      0.969515\n",
      "Other: \"Hispanic\"                                    0.970116\n",
      "Other: Mixed Race                                    0.970718\n",
      "Name: proportion, dtype: float64\n"
     ]
    }
   ],
   "source": [
    "# Examining top race categories\n",
    "race_value_counts = sirs_demo.Race.value_counts()\n",
    "print(race_value_counts)\n",
    "\n",
    "# Examining top race categories (by proprotion)\n",
    "race_norm = sirs_demo['Race'].value_counts(normalize = True)\n",
    "\n",
    "# Calculating cumulative sum of proportions and showing top 30\n",
    "race_norm_cumsum = race_norm.cumsum().head(30)\n",
    "print(race_norm_cumsum)"
   ]
  },
  {
   "cell_type": "code",
   "execution_count": 4,
   "id": "d05c653c-7672-406e-9acb-448bb6f742bd",
   "metadata": {},
   "outputs": [
    {
     "data": {
      "text/plain": [
       "race_clean\n",
       "White                               2992\n",
       "Black/African American               994\n",
       "Other/Unknown                        509\n",
       "Hispanic/Latinx                      250\n",
       "Asian/Pacific Islander               160\n",
       "Mixed                                 54\n",
       "American Indian or Alaska Native      27\n",
       "Name: count, dtype: int64"
      ]
     },
     "execution_count": 4,
     "metadata": {},
     "output_type": "execute_result"
    }
   ],
   "source": [
    "# Taking top 96% of data\n",
    "def categorize_race(race):\n",
    "    categories = {\n",
    "        'White': ['White', 'Other: Middle Eastern', 'Unknown, not collected, White'],\n",
    "        'Black/African American': ['Black or African American'],\n",
    "        'Other/Unknown': ['Unknown, not collected', 'Other'],\n",
    "        'Hispanic/Latinx': ['Other: Hispanic', 'Other: Latino', 'Other: hispanic', 'Other: Mexican'],\n",
    "        'Asian/Pacific Islander': ['Asian', 'Native Hawaiian or Other Pacific Islander', 'Other: Indian'],\n",
    "        'Mixed': ['Black or African American, White', 'Asian, White', 'Other: Biracial'],\n",
    "        'American Indian or Alaska Native': ['American Indian or Alaska Native'],\n",
    "    }\n",
    "\n",
    "    for category, labels in categories.items():\n",
    "        if race in labels:\n",
    "            return category\n",
    "    return 'Other/Unknown'\n",
    "\n",
    "# Applying function to data\n",
    "sirs_demo['race_clean'] = sirs_demo['Race'].apply(categorize_race)\n",
    "sirs_demo.race_clean.value_counts()"
   ]
  },
  {
   "cell_type": "code",
   "execution_count": 5,
   "id": "61052ace-9c57-4e69-a918-57d4e70297ab",
   "metadata": {},
   "outputs": [],
   "source": [
    "sirs_merge = pd.merge(sirs_demo, sirs_abc, how = 'inner', left_on = 'Local ID', right_on = 'Local ID')"
   ]
  },
  {
   "cell_type": "code",
   "execution_count": 6,
   "id": "1da8af3a-fe35-4931-a37d-36a308b6796b",
   "metadata": {},
   "outputs": [
    {
     "name": "stdout",
     "output_type": "stream",
     "text": [
      "(19461, 53)\n",
      "(4986, 46)\n",
      "(26056, 8)\n"
     ]
    }
   ],
   "source": [
    "print(sirs_merge.shape)\n",
    "print(sirs_demo.shape)\n",
    "print(sirs_abc.shape)"
   ]
  },
  {
   "cell_type": "code",
   "execution_count": 7,
   "id": "dcff5128-37b8-4bb2-bf19-b34de45928fb",
   "metadata": {},
   "outputs": [],
   "source": [
    "sirs_merge.to_pickle('../data/sirs_demo_abc_clean')"
   ]
  }
 ],
 "metadata": {
  "kernelspec": {
   "display_name": "Python 3 (ipykernel)",
   "language": "python",
   "name": "python3"
  },
  "language_info": {
   "codemirror_mode": {
    "name": "ipython",
    "version": 3
   },
   "file_extension": ".py",
   "mimetype": "text/x-python",
   "name": "python",
   "nbconvert_exporter": "python",
   "pygments_lexer": "ipython3",
   "version": "3.11.7"
  }
 },
 "nbformat": 4,
 "nbformat_minor": 5
}
