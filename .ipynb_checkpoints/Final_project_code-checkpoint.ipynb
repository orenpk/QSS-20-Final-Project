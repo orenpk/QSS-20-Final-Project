{
 "cells": [
  {
   "cell_type": "code",
   "execution_count": 68,
   "id": "3df5e0e7-78e8-4ce0-8029-f8b35d811c4d",
   "metadata": {},
   "outputs": [],
   "source": [
    "## Package imports\n",
    "import pandas as pd\n",
    "import seaborn as sns\n",
    "import matplotlib.pyplot as plt\n",
    "import numpy as np"
   ]
  },
  {
   "cell_type": "code",
   "execution_count": 3,
   "id": "45b6a7f3-0fb4-41b9-8174-a548342ed550",
   "metadata": {},
   "outputs": [],
   "source": [
    "## Import data\n",
    "df_sirs = pd.read_excel('Dartmouth Data Set- SIRS .xlsx')\n",
    "df_feis = pd.read_excel('Dartmouth FEIS Data.xlsx')\n",
    "df_time = pd.read_excel('Dartmouth Time Data.xlsx')"
   ]
  },
  {
   "cell_type": "code",
   "execution_count": 33,
   "id": "758a76bf-c5db-4a6c-b1cc-3b46d5001f2b",
   "metadata": {},
   "outputs": [
    {
     "name": "stderr",
     "output_type": "stream",
     "text": [
      "/var/folders/ss/3094bd1s7k55hnfygclmswz00000gn/T/ipykernel_80153/1879698437.py:13: SettingWithCopyWarning: \n",
      "A value is trying to be set on a copy of a slice from a DataFrame.\n",
      "Try using .loc[row_indexer,col_indexer] = value instead\n",
      "\n",
      "See the caveats in the documentation: https://pandas.pydata.org/pandas-docs/stable/user_guide/indexing.html#returning-a-view-versus-a-copy\n",
      "  demo['race_clean'] = demo['Race'].apply(categorize_race)\n"
     ]
    },
    {
     "data": {
      "text/plain": [
       "array([None], dtype=object)"
      ]
     },
     "execution_count": 33,
     "metadata": {},
     "output_type": "execute_result"
    }
   ],
   "source": [
    "## Cleaning Race Data\n",
    "demo = df_sirs[['DOB', 'Gender', 'Race', 'Ethnicity', 'Level of Intellectual Disability',\n",
    "       'Current living situation at enrollment to START']]\n",
    "\n",
    "\n",
    "##\n",
    "def categorize_race(race):\n",
    "    categories = {\n",
    "        'Asian': ['Asian', 'Asian, Other: Chinese', 'Asian, Other: Filipino', 'Asian, Other: Indian', 'Asian, Other: Vietnamese', 'Asian, Black or African American', 'Asian, Native Hawaiian or Other Pacific Islander, Other: Hispanic', 'Asian, Other: Hispanic'],\n",
    "        'White': ['White', 'Unknown, not collected, White', 'Other: White', 'Other: White and Black or African America', 'Other: White and Asian', 'Other: MIXED RACE, White', 'Other: Panamanian and white, White', 'Other: Caucasian', 'Other: White/Indian', 'Other: White, Hispanic'],\n",
    "        'Other: Hispanic': ['Other: Hispanic', 'Other: HISPANIC', 'Other: Hispanic ', 'Other: hispanic', 'Other: Hispanic, White', 'Other: hispanic, White', 'Other: Hispanic/Latino', 'Other: Hispanic - Puerto Rican descent', 'Other: Latino', 'Other: Latino, White', 'Other: Hispanic/ Latina', 'Other: Latino (Guatemalen & El Salvador)', 'Other: Latino ( Mexican & Puerto Rican )', 'Other: Hispanic: Puerto Rican', 'Other: Mexican/Puerto Rican', 'Other: Hispanic decent', 'Other: Hispanic, AA and white', 'Other: Hispanic (Uruguayan/Dominican)', 'Other: Hispanic, Unknown, not collected', 'Other: hispanic', 'Other: Hispanic - Puerto Rican descent', 'Other: Latino ( Mexican & Puerto Rican )'],\n",
    "        'American Indian or Alaska Native': ['American Indian or Alaska Native', 'American Indian or Alaska Native, Black or African American', 'American Indian or Alaska Native, Black or African American, White']\n",
    "    }\n",
    "    \n",
    "demo['race_clean'] = demo['Race'].apply(categorize_race)\n",
    "demo['race_clean'].unique()"
   ]
  },
  {
   "cell_type": "code",
   "execution_count": 44,
   "id": "81f941d7-5461-4041-b047-b70620c056e3",
   "metadata": {},
   "outputs": [
    {
     "data": {
      "text/plain": [
       "0      Male\n",
       "1    Female\n",
       "2    Female\n",
       "3      Male\n",
       "4    Female\n",
       "Name: gender_clean, dtype: object"
      ]
     },
     "execution_count": 44,
     "metadata": {},
     "output_type": "execute_result"
    }
   ],
   "source": [
    "## Cleaning Gender Data\n",
    "demo['Gender'].unique()\n",
    "gender_categories = {\n",
    "    'Male': ['Male', 'Other: Desires to transition from male to female', 'Other: FTM', 'Other: transgender male'],\n",
    "    'Female': ['Female', 'Other: transgender female', 'Other: Male to Female', 'Other: Born male/ he/ him, Currently identifies as female/ she/ her', 'Other: Identifies as female ', 'Other: Transgender female']\n",
    "}\n",
    "\n",
    "def categorize_gender(gender):\n",
    "    for category, gender_list in gender_categories.items():\n",
    "        if gender in gender_list:\n",
    "            return category\n",
    "    return 'Other'\n",
    "\n",
    "demo.loc[:, 'gender_clean'] = demo['Gender'].apply(categorize_gender)"
   ]
  },
  {
   "cell_type": "code",
   "execution_count": 70,
   "id": "d8cbf93b-0b15-4953-80dd-b0857897eab6",
   "metadata": {},
   "outputs": [
    {
     "data": {
      "text/plain": [
       "<BarContainer object of 3 artists>"
      ]
     },
     "execution_count": 70,
     "metadata": {},
     "output_type": "execute_result"
    },
    {
     "data": {
      "image/png": "[encoded data removed]",
      "text/plain": [
       "<Figure size 640x480 with 1 Axes>"
      ]
     },
     "metadata": {},
     "output_type": "display_data"
    }
   ],
   "source": [
    "## Finding Gender Composition\n",
    "total_entries = len(demo)\n",
    "male = demo['gender_clean'].value_counts().loc['Male']/total_entries\n",
    "female = demo['gender_clean'].value_counts().loc['Female']/total_entries\n",
    "other = demo['gender_clean'].value_counts().loc['Other']/total_entries\n",
    "\n",
    "gender_pct = pd.DataFrame({\n",
    "    'gender': ['male_pct', 'female_pct', 'other_pct'], \n",
    "    'percentage': [male, female, other]\n",
    "})\n",
    "\n",
    "plt.bar(gender_pct['gender'], gender_pct['percentage'])"
   ]
  },
  {
   "cell_type": "code",
   "execution_count": 43,
   "id": "a38387bc-b0ae-4f5b-959b-ceedc17059e0",
   "metadata": {},
   "outputs": [
    {
     "data": {
      "text/plain": [
       "array(['Group home', 'Family home', 'Foster care home',\n",
       "       'Independent living ', 'Psychiatric hospital', 'Supported living',\n",
       "       'Alternative Family Living (AFL)', 'Community ICF/DD',\n",
       "       'Supervised apartment',\n",
       "       'Other: Psychiatric Residential Treatment Facility',\n",
       "       'State operated I/DD center', 'Other: Crisis ',\n",
       "       'Assisted Living Facility', 'Other: Respite Home', 'Other: ',\n",
       "       'Other: Crisis respite house', 'Other: crisis respite ',\n",
       "       'Homeless, sheltered', 'Other: Respite Facility ',\n",
       "       'Other: Currently living at the RC',\n",
       "       'Other: Currently with Godparents', 'Other: PRTF',\n",
       "       'Other: Temorary residential setting while awaiting permanent housing',\n",
       "       'Other: Adult Care Home', 'Homeless, unsheltered',\n",
       "       'Other: Residential school', 'Other: Residenital School',\n",
       "       'Other: Residential school placement ',\n",
       "       \"Other: staying at his mother's house till new group home provider picks him up\",\n",
       "       'Other: Secured psychiatric unit', 'Other: Crisis Respite House',\n",
       "       'Other: Lakeview', 'Other: Enhanced Family Care', 'Jail',\n",
       "       'Other:  EFC 2:1 HCPs',\n",
       "       'Other: Crisis Stabilization Center, Fort Dodge ',\n",
       "       'Other: Unknown', 'Other: Living with mother in townhouse',\n",
       "       'Other: RCF ', 'Other: Semi independent apartment ', 'Other: EFC',\n",
       "       'Other: Care Home',\n",
       "       'Other: Enhanced Family Care with adopted family',\n",
       "       'Other: Anderson School', 'Other: Anderson School ',\n",
       "       'Other: Nursing Home ', 'Other: Home Care Provider Setting',\n",
       "       'Other: juvenile dentention center',\n",
       "       'Other: Hospital - ECMC Social Admission ',\n",
       "       'Other: Mental Health residence', 'Other: Respite House',\n",
       "       'Other: unknown',\n",
       "       'Other: Enhanced Family setting - Home care provider',\n",
       "       'Other: Nursing home ', 'Other: Emergency Department',\n",
       "       'Other: Boarding Home', 'Other: Host Home',\n",
       "       'Other: Residential School', 'Other: Host Home ',\n",
       "       'Other: Semi independent apartment', 'Other: Hospital',\n",
       "       'Other: Local Hospital', 'Other: OMH RTF',\n",
       "       'Other: lives with aunt and her daughter',\n",
       "       'Other: Certified Setting ',\n",
       "       'Other: Lives with maternal grandparents',\n",
       "       'Other: DSS respite placement', 'Other: Shelter',\n",
       "       'Other: Residential Center, Last 5 years',\n",
       "       'Other: Out of home placement under 21 years olf Spalding Youth Center',\n",
       "       \"Other: Aidan lives in his own apartment on his parent's property\",\n",
       "       'Other: Living with Caregiver ', 'Other: Hotel', 'Other: PRFT',\n",
       "       'Other: Hospital: Nassau University Medical Center ',\n",
       "       \"Other: Residing with her boyfriend's sister. This changes often.\",\n",
       "       'Other: Transitioning from hospital without established placement',\n",
       "       'Other: RCF', 'Other: Medical Hospital', 'Other: DSS office',\n",
       "       'Other: Adoptive Home', 'Other: Residential Care Facility ',\n",
       "       'Other: residential school ',\n",
       "       'Other: Enhanced Family Care with HCP',\n",
       "       'Other: Hotel on temp basis due to fire at last residence',\n",
       "       'Other: Bouncing between family homes ',\n",
       "       'Other: Group home, but visiting family for period due to COVID',\n",
       "       'Other: Enhanced Family Care Respite', 'Other: Residential ',\n",
       "       'Other: Currently at New Hope PRTF 30 day assessment center',\n",
       "       'Other: Per Father, they are living from hotel to hotel.',\n",
       "       'Other: Residence IRA', 'Other: under IVC at Community Hospital',\n",
       "       'Other: Acute crisis group home', 'Other: CPEP',\n",
       "       'Other: hospital due to physical needs support',\n",
       "       'Other: transitional home (from jail)', 'Other: IRA',\n",
       "       'Other: Lives alone', 'Other: Enhanced family care ',\n",
       "       'Other: Emergency Respite',\n",
       "       'Other: CPS Custody & Judge Order to Remain in Hospital',\n",
       "       'Other: Crisis Respite ', 'Other: Host Home Provider',\n",
       "       'Other: Residential Care Facility-PMI', 'Other: Polinsky',\n",
       "       'Other: Resides with grandparents',\n",
       "       'Other: Enhanced Behavioral Support Home',\n",
       "       'Other: Living with family friend '], dtype=object)"
      ]
     },
     "execution_count": 43,
     "metadata": {},
     "output_type": "execute_result"
    }
   ],
   "source": [
    "## Cleaning Living Situation Data\n",
    "demo['Current living situation at enrollment to START'].unique()"
   ]
  },
  {
   "cell_type": "code",
   "execution_count": 85,
   "id": "e20c4ba4-25a5-4533-bb21-6c5228153725",
   "metadata": {},
   "outputs": [
    {
     "name": "stderr",
     "output_type": "stream",
     "text": [
      "/var/folders/ss/3094bd1s7k55hnfygclmswz00000gn/T/ipykernel_80153/1888899385.py:8: SettingWithCopyWarning: \n",
      "A value is trying to be set on a copy of a slice from a DataFrame.\n",
      "Try using .loc[row_indexer,col_indexer] = value instead\n",
      "\n",
      "See the caveats in the documentation: https://pandas.pydata.org/pandas-docs/stable/user_guide/indexing.html#returning-a-view-versus-a-copy\n",
      "  demo['is_minor'] = demo['DOB'].apply(categorize_child_adult)\n"
     ]
    },
    {
     "data": {
      "text/html": [
       "<div>\n",
       "<style scoped>\n",
       "    .dataframe tbody tr th:only-of-type {\n",
       "        vertical-align: middle;\n",
       "    }\n",
       "\n",
       "    .dataframe tbody tr th {\n",
       "        vertical-align: top;\n",
       "    }\n",
       "\n",
       "    .dataframe thead th {\n",
       "        text-align: right;\n",
       "    }\n",
       "</style>\n",
       "<table border=\"1\" class=\"dataframe\">\n",
       "  <thead>\n",
       "    <tr style=\"text-align: right;\">\n",
       "      <th></th>\n",
       "      <th>is_minor</th>\n",
       "      <th>DOB</th>\n",
       "    </tr>\n",
       "  </thead>\n",
       "  <tbody>\n",
       "    <tr>\n",
       "      <th>0</th>\n",
       "      <td>False</td>\n",
       "      <td>1982-12-01</td>\n",
       "    </tr>\n",
       "    <tr>\n",
       "      <th>1</th>\n",
       "      <td>False</td>\n",
       "      <td>1989-12-01</td>\n",
       "    </tr>\n",
       "    <tr>\n",
       "      <th>2</th>\n",
       "      <td>False</td>\n",
       "      <td>1972-12-01</td>\n",
       "    </tr>\n",
       "    <tr>\n",
       "      <th>3</th>\n",
       "      <td>False</td>\n",
       "      <td>1974-05-01</td>\n",
       "    </tr>\n",
       "    <tr>\n",
       "      <th>4</th>\n",
       "      <td>False</td>\n",
       "      <td>1989-06-01</td>\n",
       "    </tr>\n",
       "  </tbody>\n",
       "</table>\n",
       "</div>"
      ],
      "text/plain": [
       "   is_minor        DOB\n",
       "0     False 1982-12-01\n",
       "1     False 1989-12-01\n",
       "2     False 1972-12-01\n",
       "3     False 1974-05-01\n",
       "4     False 1989-06-01"
      ]
     },
     "execution_count": 85,
     "metadata": {},
     "output_type": "execute_result"
    }
   ],
   "source": [
    "df_sirs.columns\n",
    "\n",
    "def categorize_child_adult(DOB):\n",
    "    if DOB > pd.Timestamp('2006-01-01 00:00:00'):\n",
    "        return True\n",
    "    return False\n",
    "\n",
    "demo['is_minor'] = demo['DOB'].apply(categorize_child_adult)\n",
    "demo[['is_minor', 'DOB']].head()"
   ]
  },
  {
   "cell_type": "code",
   "execution_count": null,
   "id": "77119c10-215f-4f83-adba-e801244cb70f",
   "metadata": {},
   "outputs": [],
   "source": [
    "# Subset for minors\n"
   ]
  }
 ],
 "metadata": {
  "kernelspec": {
   "display_name": "Python 3 (ipykernel)",
   "language": "python",
   "name": "python3"
  },
  "language_info": {
   "codemirror_mode": {
    "name": "ipython",
    "version": 3
   },
   "file_extension": ".py",
   "mimetype": "text/x-python",
   "name": "python",
   "nbconvert_exporter": "python",
   "pygments_lexer": "ipython3",
   "version": "3.11.7"
  }
 },
 "nbformat": 4,
 "nbformat_minor": 5
}
